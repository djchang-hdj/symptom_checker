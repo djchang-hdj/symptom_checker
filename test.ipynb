{
 "cells": [
  {
   "cell_type": "code",
   "execution_count": 38,
   "metadata": {},
   "outputs": [],
   "source": [
    "# openai를 이용하여 환자가 증상을 호소하는 것을 시뮬레이트 하는 코드\n",
    "# 영어로 된 증상은 \"links_dict.json\"의 key 에 있다. \n",
    "\n",
    "from openai import OpenAI\n",
    "from dotenv import load_dotenv\n",
    "import os\n",
    "import json\n",
    "\n",
    "load_dotenv()\n",
    "\n",
    "client = OpenAI(api_key=os.getenv(\"OPENAI_API_KEY\"))\n",
    "\n",
    "def make_cc_of_oneself(client, symptom):\n",
    "    response = client.chat.completions.create(\n",
    "    model=\"gpt-4o\",\n",
    "    messages=[\n",
    "        {\n",
    "        \"role\": \"system\",\n",
    "        f\"content\": f\"\"\"You are a doctor studying diagnostics. \n",
    "        You are simulating a patient with a certain symptom. \n",
    "        Patients with this symptom may present to the doctor in a variety of ways. \n",
    "        Create three chief complaints for the symptom in Korean.\n",
    "        Keep it simple and concise. and give a list as a response.\n",
    "        [\"CC1\", \"CC2\", \"CC3\"]\n",
    "        \"\"\"\n",
    "        },\n",
    "        {\n",
    "        \"role\": \"user\",\n",
    "        \"content\": f\"{symptom}\"\n",
    "        }\n",
    "    ],\n",
    "    temperature=0.8,\n",
    "    top_p=1\n",
    ")   \n",
    "    return response.choices[0].message.content\n"
   ]
  },
  {
   "cell_type": "code",
   "execution_count": 45,
   "metadata": {},
   "outputs": [],
   "source": [
    "cc = make_cc_of_oneself(client, \"Pelvic pain in adult male\")"
   ]
  },
  {
   "cell_type": "code",
   "execution_count": 46,
   "metadata": {},
   "outputs": [
    {
     "data": {
      "text/plain": [
       "'[\"골반 통증\", \"아랫배가 아파요\", \"회음부 통증이 있어요\"]'"
      ]
     },
     "execution_count": 46,
     "metadata": {},
     "output_type": "execute_result"
    }
   ],
   "source": [
    "cc"
   ]
  },
  {
   "cell_type": "code",
   "execution_count": 35,
   "metadata": {},
   "outputs": [],
   "source": [
    "def make_cc_for_ones_child(client, symptom):\n",
    "    response = client.chat.completions.create(\n",
    "    model=\"gpt-4o\",\n",
    "    messages=[\n",
    "        {\n",
    "        \"role\": \"system\",\n",
    "        f\"content\": f\"\"\"You are a doctor studying diagnostics. \n",
    "        You are simulating a parent who has a child with a certain symptom. \n",
    "        The child with this symptom may present to the doctor in a variety of ways. \n",
    "        Create three chief complaints for the symptom in Korean.\n",
    "        Keep it simple and concise. and give a list as a response.\n",
    "        [\"아이가 __ \", \"아이가 __\", \"아이가 __ \"]\n",
    "        \"\"\"\n",
    "        },\n",
    "        {\n",
    "        \"role\": \"user\",\n",
    "        \"content\": f\"{symptom}\"\n",
    "        }\n",
    "    ],\n",
    "    temperature=0.8,\n",
    "    top_p=1\n",
    ")   \n",
    "    return response.choices[0].message.content"
   ]
  },
  {
   "cell_type": "code",
   "execution_count": 36,
   "metadata": {},
   "outputs": [
    {
     "data": {
      "text/plain": [
       "'[\"아이가 변비가 있어요\", \"아이가 배가 아프다고 해요\", \"아이가 며칠째 대변을 못 봤어요\"]'"
      ]
     },
     "execution_count": 36,
     "metadata": {},
     "output_type": "execute_result"
    }
   ],
   "source": [
    "c_cc = make_cc_for_ones_child(client, \"Constipation in children\")\n",
    "c_cc"
   ]
  },
  {
   "cell_type": "code",
   "execution_count": 40,
   "metadata": {},
   "outputs": [],
   "source": [
    "\n",
    "# 증상에 in adults 문구가 있으면 make_cc_of_oneself 호출, 증상에 in children 문구가 있으면 make_cc_for_ones_child 호출 함수\n",
    "\n",
    "def get_cc(client, symptom):\n",
    "    if \"in adults\" in symptom:\n",
    "        return make_cc_of_oneself(client, symptom)\n",
    "    elif \"in children\" in symptom:\n",
    "        return make_cc_for_ones_child(client, symptom)\n",
    "    else:\n",
    "        return None"
   ]
  },
  {
   "cell_type": "code",
   "execution_count": 41,
   "metadata": {},
   "outputs": [],
   "source": [
    "def read_json_file(file_path):\n",
    "    with open(file_path, 'r', encoding='utf-8') as file:\n",
    "        return json.load(file)\n",
    "    \n",
    "symptom_dict = read_json_file(\"links_dict.json\").keys()\n"
   ]
  },
  {
   "cell_type": "code",
   "execution_count": 4,
   "metadata": {},
   "outputs": [
    {
     "ename": "NameError",
     "evalue": "name 'symptom_dict' is not defined",
     "output_type": "error",
     "traceback": [
      "\u001b[0;31m---------------------------------------------------------------------------\u001b[0m",
      "\u001b[0;31mNameError\u001b[0m                                 Traceback (most recent call last)",
      "Cell \u001b[0;32mIn[4], line 1\u001b[0m\n\u001b[0;32m----> 1\u001b[0m \u001b[43msymptom_dict\u001b[49m\n",
      "\u001b[0;31mNameError\u001b[0m: name 'symptom_dict' is not defined"
     ]
    }
   ],
   "source": [
    "symptom_dict"
   ]
  },
  {
   "cell_type": "code",
   "execution_count": 5,
   "metadata": {},
   "outputs": [],
   "source": [
    "html_crop = '''<div class=\\\"check\\\">\\n<nav aria-label=\\\"Navigation Menu\\\" role=\\\"navigation\\\">\\n<ol class=\\\"steps\\\">\\n<li>\\n<a href=\\\"/symptom-checker/select-symptom/itt-20009075\\\" id=\\\"main_0_maincontent_1_Symptom\\\">Choose a symptom</a>\\n</li>\\n<li><span><em>Selected</em> Select related factors</span></li>\\n<li><span>View possible causes</span></li>\\n</ol>\\n</nav>\\n<h2>Abdominal pain in adults</h2>\\n<p>Find possible causes of abdominal pain based on specific factors. Check one or more factors on this page that apply to your symptom.</p>\\n<div class=\\\"form\\\">\\n<div class=\\\"frm_item\\\">\\n<fieldset>\\n<legend>Pain is</legend>\\n<div class=\\\"frm_options\\\">\\n<ul>\\n<li>\\n<input id=\\\"main_0_maincontent_1_QualifierRepeater_FactorRepeater_0_CheckBoxQualifier_0\\\" name=\\\"main_0$maincontent_1$QualifierRepeater$ctl00$FactorRepeater$ctl00$CheckBoxQualifier\\\" sitecoreid=\\\"{FE458D9D-31D9-4FF0-AD12-4DCDF5921C57}\\\" type=\\\"checkbox\\\"/>\\n<label for=\\\"main_0_maincontent_1_QualifierRepeater_FactorRepeater_0_CheckBoxQualifier_0\\\" id=\\\"main_0_maincontent_1_QualifierRepeater_FactorRepeater_0_CheckboxText_0\\\">Burning</label>\\n</li>\\n<li>\\n<input id=\\\"main_0_maincontent_1_QualifierRepeater_FactorRepeater_0_CheckBoxQualifier_1\\\" name=\\\"main_0$maincontent_1$QualifierRepeater$ctl00$FactorRepeater$ctl01$CheckBoxQualifier\\\" sitecoreid=\\\"{BA76C278-6A5B-4AB0-B25C-D5267D4FEC70}\\\" type=\\\"checkbox\\\"/>\\n<label for=\\\"main_0_maincontent_1_QualifierRepeater_FactorRepeater_0_CheckBoxQualifier_1\\\" id=\\\"main_0_maincontent_1_QualifierRepeater_FactorRepeater_0_CheckboxText_1\\\">Crampy</label>\\n</li>\\n<li>\\n<input id=\\\"main_0_maincontent_1_QualifierRepeater_FactorRepeater_0_CheckBoxQualifier_2\\\" name=\\\"main_0$maincontent_1$QualifierRepeater$ctl00$FactorRepeater$ctl02$CheckBoxQualifier\\\" sitecoreid=\\\"{84C8F416-17D6-43C7-8D57-7450D6653A4D}\\\" type=\\\"checkbox\\\"/>\\n<label for=\\\"main_0_maincontent_1_QualifierRepeater_FactorRepeater_0_CheckBoxQualifier_2\\\" id=\\\"main_0_maincontent_1_QualifierRepeater_FactorRepeater_0_CheckboxText_2\\\">Dull</label>\\n</li>\\n<li>\\n<input id=\\\"main_0_maincontent_1_QualifierRepeater_FactorRepeater_0_CheckBoxQualifier_3\\\" name=\\\"main_0$maincontent_1$QualifierRepeater$ctl00$FactorRepeater$ctl03$CheckBoxQualifier\\\" sitecoreid=\\\"{E555C393-AF11-4F32-9F6B-C61200FA323E}\\\" type=\\\"checkbox\\\"/>\\n<label for=\\\"main_0_maincontent_1_QualifierRepeater_FactorRepeater_0_CheckBoxQualifier_3\\\" id=\\\"main_0_maincontent_1_QualifierRepeater_FactorRepeater_0_CheckboxText_3\\\">Gnawing</label>\\n</li>\\n<li>\\n<input id=\\\"main_0_maincontent_1_QualifierRepeater_FactorRepeater_0_CheckBoxQualifier_4\\\" name=\\\"main_0$maincontent_1$QualifierRepeater$ctl00$FactorRepeater$ctl04$CheckBoxQualifier\\\" sitecoreid=\\\"{1A612C71-31D2-4372-A7AE-C40821575755}\\\" type=\\\"checkbox\\\"/>\\n<label for=\\\"main_0_maincontent_1_QualifierRepeater_FactorRepeater_0_CheckBoxQualifier_4\\\" id=\\\"main_0_maincontent_1_QualifierRepeater_FactorRepeater_0_CheckboxText_4\\\">Intense</label>\\n</li>\\n<li>\\n<input id=\\\"main_0_maincontent_1_QualifierRepeater_FactorRepeater_0_CheckBoxQualifier_5\\\" name=\\\"main_0$maincontent_1$QualifierRepeater$ctl00$FactorRepeater$ctl05$CheckBoxQualifier\\\" sitecoreid=\\\"{570CC799-81D2-4E5A-A063-06B0C65312EB}\\\" type=\\\"checkbox\\\"/>\\n<label for=\\\"main_0_maincontent_1_QualifierRepeater_FactorRepeater_0_CheckBoxQualifier_5\\\" id=\\\"main_0_maincontent_1_QualifierRepeater_FactorRepeater_0_CheckboxText_5\\\">Intermittent or episodic</label>\\n</li>\\n</ul>\\n<ul>\\n<li>\\n<input id=\\\"main_0_maincontent_1_QualifierRepeater_FactorRepeater2_0_CheckBoxQualifier_0\\\" name=\\\"main_0$maincontent_1$QualifierRepeater$ctl00$FactorRepeater2$ctl00$CheckBoxQualifier\\\" sitecoreid=\\\"{9558EDA2-9971-408F-ABD2-E9421C117345}\\\" type=\\\"checkbox\\\"/>\\n<label for=\\\"main_0_maincontent_1_QualifierRepeater_FactorRepeater2_0_CheckBoxQualifier_0\\\" id=\\\"main_0_maincontent_1_QualifierRepeater_FactorRepeater2_0_CheckboxText_0\\\">Ongoing (chronic)</label>\\n</li>\\n<li>\\n<input id=\\\"main_0_maincontent_1_QualifierRepeater_FactorRepeater2_0_CheckBoxQualifier_1\\\" name=\\\"main_0$maincontent_1$QualifierRepeater$ctl00$FactorRepeater2$ctl01$CheckBoxQualifier\\\" sitecoreid=\\\"{950A0818-D905-4F74-84BE-4DDF38252712}\\\" type=\\\"checkbox\\\"/>\\n<label for=\\\"main_0_maincontent_1_QualifierRepeater_FactorRepeater2_0_CheckBoxQualifier_1\\\" id=\\\"main_0_maincontent_1_QualifierRepeater_FactorRepeater2_0_CheckboxText_1\\\">Sharp</label>\\n</li>\\n<li>\\n<input id=\\\"main_0_maincontent_1_QualifierRepeater_FactorRepeater2_0_CheckBoxQualifier_2\\\" name=\\\"main_0$maincontent_1$QualifierRepeater$ctl00$FactorRepeater2$ctl02$CheckBoxQualifier\\\" sitecoreid=\\\"{5A8C3AD2-98D4-444F-8C0C-177F07ADFAC0}\\\" type=\\\"checkbox\\\"/>\\n<label for=\\\"main_0_maincontent_1_QualifierRepeater_FactorRepeater2_0_CheckBoxQualifier_2\\\" id=\\\"main_0_maincontent_1_QualifierRepeater_FactorRepeater2_0_CheckboxText_2\\\">Steady</label>\\n</li>\\n<li>\\n<input id=\\\"main_0_maincontent_1_QualifierRepeater_FactorRepeater2_0_CheckBoxQualifier_3\\\" name=\\\"main_0$maincontent_1$QualifierRepeater$ctl00$FactorRepeater2$ctl03$CheckBoxQualifier\\\" sitecoreid=\\\"{20837263-E65A-4969-9F59-377E2F8D71D6}\\\" type=\\\"checkbox\\\"/>\\n<label for=\\\"main_0_maincontent_1_QualifierRepeater_FactorRepeater2_0_CheckBoxQualifier_3\\\" id=\\\"main_0_maincontent_1_QualifierRepeater_FactorRepeater2_0_CheckboxText_3\\\">Sudden (acute)</label>\\n</li>\\n<li>\\n<input id=\\\"main_0_maincontent_1_QualifierRepeater_FactorRepeater2_0_CheckBoxQualifier_4\\\" name=\\\"main_0$maincontent_1$QualifierRepeater$ctl00$FactorRepeater2$ctl04$CheckBoxQualifier\\\" sitecoreid=\\\"{CA5A2414-1E1C-4139-855E-A82FEA39F60F}\\\" type=\\\"checkbox\\\"/>\\n<label for=\\\"main_0_maincontent_1_QualifierRepeater_FactorRepeater2_0_CheckBoxQualifier_4\\\" id=\\\"main_0_maincontent_1_QualifierRepeater_FactorRepeater2_0_CheckboxText_4\\\">Worsening or progressing</label>\\n</li>\\n</ul>\\n</div>\\n</fieldset>\\n</div>\\n<div class=\\\"frm_item\\\">\\n<fieldset>\\n<legend>Pain located in</legend>\\n<div class=\\\"frm_options\\\">\\n<ul>\\n<li>\\n<input id=\\\"main_0_maincontent_1_QualifierRepeater_FactorRepeater_1_CheckBoxQualifier_0\\\" name=\\\"main_0$maincontent_1$QualifierRepeater$ctl01$FactorRepeater$ctl00$CheckBoxQualifier\\\" sitecoreid=\\\"{4360AD66-4F82-4F42-8987-7CB89F8D509D}\\\" type=\\\"checkbox\\\"/>\\n<label for=\\\"main_0_maincontent_1_QualifierRepeater_FactorRepeater_1_CheckBoxQualifier_0\\\" id=\\\"main_0_maincontent_1_QualifierRepeater_FactorRepeater_1_CheckboxText_0\\\">Abdomen but radiates to other parts of the body</label>\\n</li>\\n<li>\\n<input id=\\\"main_0_maincontent_1_QualifierRepeater_FactorRepeater_1_CheckBoxQualifier_1\\\" name=\\\"main_0$maincontent_1$QualifierRepeater$ctl01$FactorRepeater$ctl01$CheckBoxQualifier\\\" sitecoreid=\\\"{2615E80D-7B81-479D-A680-A1FB2F2A73BA}\\\" type=\\\"checkbox\\\"/>\\n<label for=\\\"main_0_maincontent_1_QualifierRepeater_FactorRepeater_1_CheckBoxQualifier_1\\\" id=\\\"main_0_maincontent_1_QualifierRepeater_FactorRepeater_1_CheckboxText_1\\\">Lower abdomen</label>\\n</li>\\n<li>\\n<input id=\\\"main_0_maincontent_1_QualifierRepeater_FactorRepeater_1_CheckBoxQualifier_2\\\" name=\\\"main_0$maincontent_1$QualifierRepeater$ctl01$FactorRepeater$ctl02$CheckBoxQualifier\\\" sitecoreid=\\\"{426646E9-9EE0-4475-9679-9642C890C6EE}\\\" type=\\\"checkbox\\\"/>\\n<label for=\\\"main_0_maincontent_1_QualifierRepeater_FactorRepeater_1_CheckBoxQualifier_2\\\" id=\\\"main_0_maincontent_1_QualifierRepeater_FactorRepeater_1_CheckboxText_2\\\">Middle abdomen</label>\\n</li>\\n</ul>\\n<ul>\\n<li>\\n<input id=\\\"main_0_maincontent_1_QualifierRepeater_FactorRepeater2_1_CheckBoxQualifier_0\\\" name=\\\"main_0$maincontent_1$QualifierRepeater$ctl01$FactorRepeater2$ctl00$CheckBoxQualifier\\\" sitecoreid=\\\"{692AF741-832E-4666-A623-B8923805A6C9}\\\" type=\\\"checkbox\\\"/>\\n<label for=\\\"main_0_maincontent_1_QualifierRepeater_FactorRepeater2_1_CheckBoxQualifier_0\\\" id=\\\"main_0_maincontent_1_QualifierRepeater_FactorRepeater2_1_CheckboxText_0\\\">One or both sides</label>\\n</li>\\n<li>\\n<input id=\\\"main_0_maincontent_1_QualifierRepeater_FactorRepeater2_1_CheckBoxQualifier_1\\\" name=\\\"main_0$maincontent_1$QualifierRepeater$ctl01$FactorRepeater2$ctl01$CheckBoxQualifier\\\" sitecoreid=\\\"{5ED2CC9B-7986-4735-B8D8-0063C6E69C0A}\\\" type=\\\"checkbox\\\"/>\\n<label for=\\\"main_0_maincontent_1_QualifierRepeater_FactorRepeater2_1_CheckBoxQualifier_1\\\" id=\\\"main_0_maincontent_1_QualifierRepeater_FactorRepeater2_1_CheckboxText_1\\\">Upper abdomen</label>\\n</li>\\n</ul>\\n</div>\\n</fieldset>\\n</div>\\n<div class=\\\"frm_item\\\">\\n<fieldset>\\n<legend>Triggered or worsened by</legend>\\n<div class=\\\"frm_options\\\">\\n<ul>\\n<li>\\n<input id=\\\"main_0_maincontent_1_QualifierRepeater_FactorRepeater_2_CheckBoxQualifier_0\\\" name=\\\"main_0$maincontent_1$QualifierRepeater$ctl02$FactorRepeater$ctl00$CheckBoxQualifier\\\" sitecoreid=\\\"{BA2E029C-F45E-4C65-A525-FF3219C98455}\\\" type=\\\"checkbox\\\"/>\\n<label for=\\\"main_0_maincontent_1_QualifierRepeater_FactorRepeater_2_CheckBoxQualifier_0\\\" id=\\\"main_0_maincontent_1_QualifierRepeater_FactorRepeater_2_CheckboxText_0\\\">Coughing or other jarring movements</label>\\n</li>\\n<li>\\n<input id=\\\"main_0_maincontent_1_QualifierRepeater_FactorRepeater_2_CheckBoxQualifier_1\\\" name=\\\"main_0$maincontent_1$QualifierRepeater$ctl02$FactorRepeater$ctl01$CheckBoxQualifier\\\" sitecoreid=\\\"{C800D51D-35D4-4C35-8670-8B987354AA50}\\\" type=\\\"checkbox\\\"/>\\n<label for=\\\"main_0_maincontent_1_QualifierRepeater_FactorRepeater_2_CheckBoxQualifier_1\\\" id=\\\"main_0_maincontent_1_QualifierRepeater_FactorRepeater_2_CheckboxText_1\\\">Drinking alcohol</label>\\n</li>\\n<li>\\n<input id=\\\"main_0_maincontent_1_QualifierRepeater_FactorRepeater_2_CheckBoxQualifier_2\\\" name=\\\"main_0$maincontent_1$QualifierRepeater$ctl02$FactorRepeater$ctl02$CheckBoxQualifier\\\" sitecoreid=\\\"{17CB8372-B370-4354-BD53-E4CAB1E2D359}\\\" type=\\\"checkbox\\\"/>\\n<label for=\\\"main_0_maincontent_1_QualifierRepeater_FactorRepeater_2_CheckBoxQualifier_2\\\" id=\\\"main_0_maincontent_1_QualifierRepeater_FactorRepeater_2_CheckboxText_2\\\">Eating certain foods</label>\\n</li>\\n</ul>\\n<ul>\\n<li>\\n<input id=\\\"main_0_maincontent_1_QualifierRepeater_FactorRepeater2_2_CheckBoxQualifier_0\\\" name=\\\"main_0$maincontent_1$QualifierRepeater$ctl02$FactorRepeater2$ctl00$CheckBoxQualifier\\\" sitecoreid=\\\"{3DF45505-8B51-4DF4-9B09-14EFF7BDB2D7}\\\" type=\\\"checkbox\\\"/>\\n<label for=\\\"main_0_maincontent_1_QualifierRepeater_FactorRepeater2_2_CheckBoxQualifier_0\\\" id=\\\"main_0_maincontent_1_QualifierRepeater_FactorRepeater2_2_CheckboxText_0\\\">Menstrual cycle</label>\\n</li>\\n<li>\\n<input id=\\\"main_0_maincontent_1_QualifierRepeater_FactorRepeater2_2_CheckBoxQualifier_1\\\" name=\\\"main_0$maincontent_1$QualifierRepeater$ctl02$FactorRepeater2$ctl01$CheckBoxQualifier\\\" sitecoreid=\\\"{834C648E-DE63-4857-9E73-BFF1A486455D}\\\" type=\\\"checkbox\\\"/>\\n<label for=\\\"main_0_maincontent_1_QualifierRepeater_FactorRepeater2_2_CheckBoxQualifier_1\\\" id=\\\"main_0_maincontent_1_QualifierRepeater_FactorRepeater2_2_CheckboxText_1\\\">Stress</label>\\n</li>\\n</ul>\\n</div>\\n</fieldset>\\n</div>\\n<div class=\\\"frm_item\\\">\\n<fieldset>\\n<legend>Relieved by</legend>\\n<div class=\\\"frm_options\\\">\\n<ul>\\n<li>\\n<input id=\\\"main_0_maincontent_1_QualifierRepeater_FactorRepeater_3_CheckBoxQualifier_0\\\" name=\\\"main_0$maincontent_1$QualifierRepeater$ctl03$FactorRepeater$ctl00$CheckBoxQualifier\\\" sitecoreid=\\\"{EFC254A3-D57A-4645-A692-D5FA6B566936}\\\" type=\\\"checkbox\\\"/>\\n<label for=\\\"main_0_maincontent_1_QualifierRepeater_FactorRepeater_3_CheckBoxQualifier_0\\\" id=\\\"main_0_maincontent_1_QualifierRepeater_FactorRepeater_3_CheckboxText_0\\\">Antacids</label>\\n</li>\\n<li>\\n<input id=\\\"main_0_maincontent_1_QualifierRepeater_FactorRepeater_3_CheckBoxQualifier_1\\\" name=\\\"main_0$maincontent_1$QualifierRepeater$ctl03$FactorRepeater$ctl01$CheckBoxQualifier\\\" sitecoreid=\\\"{C6C685B5-EA4A-4B65-B759-3E254C44F8B1}\\\" type=\\\"checkbox\\\"/>\\n<label for=\\\"main_0_maincontent_1_QualifierRepeater_FactorRepeater_3_CheckBoxQualifier_1\\\" id=\\\"main_0_maincontent_1_QualifierRepeater_FactorRepeater_3_CheckboxText_1\\\">Avoiding certain foods</label>\\n</li>\\n<li>\\n<input id=\\\"main_0_maincontent_1_QualifierRepeater_FactorRepeater_3_CheckBoxQualifier_2\\\" name=\\\"main_0$maincontent_1$QualifierRepeater$ctl03$FactorRepeater$ctl02$CheckBoxQualifier\\\" sitecoreid=\\\"{D43B3E0E-60E7-4635-A477-734DFA03B48D}\\\" type=\\\"checkbox\\\"/>\\n<label for=\\\"main_0_maincontent_1_QualifierRepeater_FactorRepeater_3_CheckBoxQualifier_2\\\" id=\\\"main_0_maincontent_1_QualifierRepeater_FactorRepeater_3_CheckboxText_2\\\">Changing position</label>\\n</li>\\n</ul>\\n<ul>\\n<li>\\n<input id=\\\"main_0_maincontent_1_QualifierRepeater_FactorRepeater2_3_CheckBoxQualifier_0\\\" name=\\\"main_0$maincontent_1$QualifierRepeater$ctl03$FactorRepeater2$ctl00$CheckBoxQualifier\\\" sitecoreid=\\\"{613F236D-AB1C-497B-876B-56F7CE959FDE}\\\" type=\\\"checkbox\\\"/>\\n<label for=\\\"main_0_maincontent_1_QualifierRepeater_FactorRepeater2_3_CheckBoxQualifier_0\\\" id=\\\"main_0_maincontent_1_QualifierRepeater_FactorRepeater2_3_CheckboxText_0\\\">Drinking more water</label>\\n</li>\\n<li>\\n<input id=\\\"main_0_maincontent_1_QualifierRepeater_FactorRepeater2_3_CheckBoxQualifier_1\\\" name=\\\"main_0$maincontent_1$QualifierRepeater$ctl03$FactorRepeater2$ctl01$CheckBoxQualifier\\\" sitecoreid=\\\"{9B196A8A-9661-4F0C-962C-142C385A81C7}\\\" type=\\\"checkbox\\\"/>\\n<label for=\\\"main_0_maincontent_1_QualifierRepeater_FactorRepeater2_3_CheckBoxQualifier_1\\\" id=\\\"main_0_maincontent_1_QualifierRepeater_FactorRepeater2_3_CheckboxText_1\\\">Eating certain foods</label>\\n</li>\\n<li>\\n<input id=\\\"main_0_maincontent_1_QualifierRepeater_FactorRepeater2_3_CheckBoxQualifier_2\\\" name=\\\"main_0$maincontent_1$QualifierRepeater$ctl03$FactorRepeater2$ctl02$CheckBoxQualifier\\\" sitecoreid=\\\"{A53A34E1-EC63-4C86-A80B-15C2AC946338}\\\" type=\\\"checkbox\\\"/>\\n<label for=\\\"main_0_maincontent_1_QualifierRepeater_FactorRepeater2_3_CheckBoxQualifier_2\\\" id=\\\"main_0_maincontent_1_QualifierRepeater_FactorRepeater2_3_CheckboxText_2\\\">Eating more fiber</label>\\n</li>\\n</ul>\\n</div>\\n</fieldset>\\n</div>\\n<div class=\\\"frm_item\\\">\\n<fieldset>\\n<legend>Accompanied by</legend>\\n<div class=\\\"frm_options\\\">\\n<ul>\\n<li>\\n<input id=\\\"main_0_maincontent_1_QualifierRepeater_FactorRepeater_4_CheckBoxQualifier_0\\\" name=\\\"main_0$maincontent_1$QualifierRepeater$ctl04$FactorRepeater$ctl00$CheckBoxQualifier\\\" sitecoreid=\\\"{A0B2D9E5-A408-4F6C-B07F-76AB63F79851}\\\" type=\\\"checkbox\\\"/>\\n<label for=\\\"main_0_maincontent_1_QualifierRepeater_FactorRepeater_4_CheckBoxQualifier_0\\\" id=\\\"main_0_maincontent_1_QualifierRepeater_FactorRepeater_4_CheckboxText_0\\\">Abdominal swelling</label>\\n</li>\\n<li>\\n<input id=\\\"main_0_maincontent_1_QualifierRepeater_FactorRepeater_4_CheckBoxQualifier_1\\\" name=\\\"main_0$maincontent_1$QualifierRepeater$ctl04$FactorRepeater$ctl01$CheckBoxQualifier\\\" sitecoreid=\\\"{7CDDCD8A-C5DC-42B0-9B4C-F06946D5940C}\\\" type=\\\"checkbox\\\"/>\\n<label for=\\\"main_0_maincontent_1_QualifierRepeater_FactorRepeater_4_CheckBoxQualifier_1\\\" id=\\\"main_0_maincontent_1_QualifierRepeater_FactorRepeater_4_CheckboxText_1\\\">Black or bloody stools</label>\\n</li>\\n<li>\\n<input id=\\\"main_0_maincontent_1_QualifierRepeater_FactorRepeater_4_CheckBoxQualifier_2\\\" name=\\\"main_0$maincontent_1$QualifierRepeater$ctl04$FactorRepeater$ctl02$CheckBoxQualifier\\\" sitecoreid=\\\"{73E117B8-7550-4E45-9315-ABE6D0C1D545}\\\" type=\\\"checkbox\\\"/>\\n<label for=\\\"main_0_maincontent_1_QualifierRepeater_FactorRepeater_4_CheckBoxQualifier_2\\\" id=\\\"main_0_maincontent_1_QualifierRepeater_FactorRepeater_4_CheckboxText_2\\\">Constipation</label>\\n</li>\\n<li>\\n<input id=\\\"main_0_maincontent_1_QualifierRepeater_FactorRepeater_4_CheckBoxQualifier_3\\\" name=\\\"main_0$maincontent_1$QualifierRepeater$ctl04$FactorRepeater$ctl03$CheckBoxQualifier\\\" sitecoreid=\\\"{2463A874-7E52-46F7-A425-B69363A0659A}\\\" type=\\\"checkbox\\\"/>\\n<label for=\\\"main_0_maincontent_1_QualifierRepeater_FactorRepeater_4_CheckBoxQualifier_3\\\" id=\\\"main_0_maincontent_1_QualifierRepeater_FactorRepeater_4_CheckboxText_3\\\">Diarrhea</label>\\n</li>\\n<li>\\n<input id=\\\"main_0_maincontent_1_QualifierRepeater_FactorRepeater_4_CheckBoxQualifier_4\\\" name=\\\"main_0$maincontent_1$QualifierRepeater$ctl04$FactorRepeater$ctl04$CheckBoxQualifier\\\" sitecoreid=\\\"{AAE30711-B615-4020-A894-5002D43C15CD}\\\" type=\\\"checkbox\\\"/>\\n<label for=\\\"main_0_maincontent_1_QualifierRepeater_FactorRepeater_4_CheckBoxQualifier_4\\\" id=\\\"main_0_maincontent_1_QualifierRepeater_FactorRepeater_4_CheckboxText_4\\\">Fever</label>\\n</li>\\n<li>\\n<input id=\\\"main_0_maincontent_1_QualifierRepeater_FactorRepeater_4_CheckBoxQualifier_5\\\" name=\\\"main_0$maincontent_1$QualifierRepeater$ctl04$FactorRepeater$ctl05$CheckBoxQualifier\\\" sitecoreid=\\\"{7D5D028A-4E84-4B42-9A04-C19E29204047}\\\" type=\\\"checkbox\\\"/>\\n<label for=\\\"main_0_maincontent_1_QualifierRepeater_FactorRepeater_4_CheckBoxQualifier_5\\\" id=\\\"main_0_maincontent_1_QualifierRepeater_FactorRepeater_4_CheckboxText_5\\\">Inability to move bowels in spite of urge</label>\\n</li>\\n<li>\\n<input id=\\\"main_0_maincontent_1_QualifierRepeater_FactorRepeater_4_CheckBoxQualifier_6\\\" name=\\\"main_0$maincontent_1$QualifierRepeater$ctl04$FactorRepeater$ctl06$CheckBoxQualifier\\\" sitecoreid=\\\"{DAA05F95-7FE5-42B7-9640-89401140C008}\\\" type=\\\"checkbox\\\"/>\\n<label for=\\\"main_0_maincontent_1_QualifierRepeater_FactorRepeater_4_CheckBoxQualifier_6\\\" id=\\\"main_0_maincontent_1_QualifierRepeater_FactorRepeater_4_CheckboxText_6\\\">Loose, watery stools</label>\\n</li>\\n</ul>\\n<ul>\\n<li>\\n<input id=\\\"main_0_maincontent_1_QualifierRepeater_FactorRepeater2_4_CheckBoxQualifier_0\\\" name=\\\"main_0$maincontent_1$QualifierRepeater$ctl04$FactorRepeater2$ctl00$CheckBoxQualifier\\\" sitecoreid=\\\"{67B3B786-C144-4D98-8C52-BD32139CDCA1}\\\" type=\\\"checkbox\\\"/>\\n<label for=\\\"main_0_maincontent_1_QualifierRepeater_FactorRepeater2_4_CheckBoxQualifier_0\\\" id=\\\"main_0_maincontent_1_QualifierRepeater_FactorRepeater2_4_CheckboxText_0\\\">Nausea or vomiting</label>\\n</li>\\n<li>\\n<input id=\\\"main_0_maincontent_1_QualifierRepeater_FactorRepeater2_4_CheckBoxQualifier_1\\\" name=\\\"main_0$maincontent_1$QualifierRepeater$ctl04$FactorRepeater2$ctl01$CheckBoxQualifier\\\" sitecoreid=\\\"{05828B7E-D8BD-40AA-8DAA-42468F33DAE2}\\\" type=\\\"checkbox\\\"/>\\n<label for=\\\"main_0_maincontent_1_QualifierRepeater_FactorRepeater2_4_CheckBoxQualifier_1\\\" id=\\\"main_0_maincontent_1_QualifierRepeater_FactorRepeater2_4_CheckboxText_1\\\">Passing gas</label>\\n</li>\\n<li>\\n<input id=\\\"main_0_maincontent_1_QualifierRepeater_FactorRepeater2_4_CheckBoxQualifier_2\\\" name=\\\"main_0$maincontent_1$QualifierRepeater$ctl04$FactorRepeater2$ctl02$CheckBoxQualifier\\\" sitecoreid=\\\"{BDF66422-72FF-480B-A955-E221224B67BE}\\\" type=\\\"checkbox\\\"/>\\n<label for=\\\"main_0_maincontent_1_QualifierRepeater_FactorRepeater2_4_CheckBoxQualifier_2\\\" id=\\\"main_0_maincontent_1_QualifierRepeater_FactorRepeater2_4_CheckboxText_2\\\">Pulsing sensation near the navel</label>\\n</li>\\n<li>\\n<input id=\\\"main_0_maincontent_1_QualifierRepeater_FactorRepeater2_4_CheckBoxQualifier_3\\\" name=\\\"main_0$maincontent_1$QualifierRepeater$ctl04$FactorRepeater2$ctl03$CheckBoxQualifier\\\" sitecoreid=\\\"{F448B8C4-75B7-42AE-B345-F7B47AFF2807}\\\" type=\\\"checkbox\\\"/>\\n<label for=\\\"main_0_maincontent_1_QualifierRepeater_FactorRepeater2_4_CheckBoxQualifier_3\\\" id=\\\"main_0_maincontent_1_QualifierRepeater_FactorRepeater2_4_CheckboxText_3\\\">Rash</label>\\n</li>\\n<li>\\n<input id=\\\"main_0_maincontent_1_QualifierRepeater_FactorRepeater2_4_CheckBoxQualifier_4\\\" name=\\\"main_0$maincontent_1$QualifierRepeater$ctl04$FactorRepeater2$ctl04$CheckBoxQualifier\\\" sitecoreid=\\\"{DFA88884-E2F5-404A-8090-6E46DAF6CD2F}\\\" type=\\\"checkbox\\\"/>\\n<label for=\\\"main_0_maincontent_1_QualifierRepeater_FactorRepeater2_4_CheckBoxQualifier_4\\\" id=\\\"main_0_maincontent_1_QualifierRepeater_FactorRepeater2_4_CheckboxText_4\\\">Stomach growling or rumbling</label>\\n</li>\\n<li>\\n<input id=\\\"main_0_maincontent_1_QualifierRepeater_FactorRepeater2_4_CheckBoxQualifier_5\\\" name=\\\"main_0$maincontent_1$QualifierRepeater$ctl04$FactorRepeater2$ctl05$CheckBoxQualifier\\\" sitecoreid=\\\"{BB1F0B63-F269-419C-B234-3420B8B2E89D}\\\" type=\\\"checkbox\\\"/>\\n<label for=\\\"main_0_maincontent_1_QualifierRepeater_FactorRepeater2_4_CheckBoxQualifier_5\\\" id=\\\"main_0_maincontent_1_QualifierRepeater_FactorRepeater2_4_CheckboxText_5\\\">Unintended weight loss</label>\\n</li>\\n<li>\\n<input id=\\\"main_0_maincontent_1_QualifierRepeater_FactorRepeater2_4_CheckBoxQualifier_6\\\" name=\\\"main_0$maincontent_1$QualifierRepeater$ctl04$FactorRepeater2$ctl06$CheckBoxQualifier\\\" sitecoreid=\\\"{87A70D00-2182-4069-9056-257F52BB8B5A}\\\" type=\\\"checkbox\\\"/>\\n<label for=\\\"main_0_maincontent_1_QualifierRepeater_FactorRepeater2_4_CheckBoxQualifier_6\\\" id=\\\"main_0_maincontent_1_QualifierRepeater_FactorRepeater2_4_CheckboxText_6\\\">Urgent need to have a bowel movement</label>\\n</li>\\n</ul>\\n</div>\\n</fieldset>\\n</div>\\n<div class=\\\"buttons\\\">\\n<input class=\\\"primary\\\" id=\\\"FindCause\\\" name=\\\"main_0$maincontent_1$FindCause\\\" type=\\\"submit\\\" value=\\\"Find causes\\\"/>\\n</div>\\n</div>\\n<div class=\\\"expandable references\\\">\\n<button aria-controls=\\\"{1D98884F-1E30-4645-B4E3-22D25FF5074A}\\\" aria-expanded=\\\"false\\\" class=\\\"acces-show-hide\\\" data-hide=\\\"Hide references\\\" data-show=\\\"Show references\\\" type=\\\"button\\\">Show references</button>\\n<div id=\\\"{1D98884F-1E30-4645-B4E3-22D25FF5074A}\\\">\\n<ol>\\n<li>Walls RM, et al., eds. Rosen's Emergency Medicine: Concepts and Clinical Practice. 9th ed. Philadelphia, Pa.: Elsevier; 2018. https://www.clinicalkey.com. Accessed Oct. 30, 2017.</li>\\n<li>Palmer J, et al. Abdominal pain mimics. Emergency Medicine Clinics of North America. 2016;34:409.</li>\\n<li>UpToDate. https://www.uptodate.com/contents/search. Accessed Oct. 30, 2017.</li>\\n<li>Zeiter D. Abdominal pain in children. Pediatric Clinics of North America. 2017;64:525.</li>\\n<li>Palmer J, et al. Abdominal pain mimics. Emergency Medicine Clinics of North America. 2016;34:409.</li>\\n<li>Feldman M, et al. Sleisenger and Fordtran's Gastrointestinal and Liver Disease: Pathophysiology, Diagnosis, Management. 10th ed. Philadelphia, Pa.: Saunders Elsevier; 2016. https://www.clinicalkey.com. Accessed Oct. 30, 2017.</li>\\n<li>Merck Manual Professional Version. https://www.merckmanuals.com/professional. Accessed Oct. 30, 2017.</li>\\n<li>AskMayoExpert. Rochester, Minn.: Mayo Foundation for Medical Education and Research; 2017.</li>\\n<li>Kliegman RM, et al. Nelson Textbook of Pediatrics. 20th ed. Philadelphia, Pa.: Elsevier; 2016. https://www.clinicalkey.com. Accessed Nov. 2, 2017.</li>\\n<li>Zitelli BJ, et al., eds. Zitelli and Davis' Atlas of Pediatric Physical Diagnosis. Philadelphia, Pa.: Elsevier; 2017. https://www.clinicalkey.com. Accessed Nov. 11, 2017.</li>\\n<li>Ferri FF. Ferri's Clinical Advisor 2018. Philadelphia, Pa.: Elsevier; 2018. https://www.clinicalkey.com. Accessed Nov. 11, 2017.</li>\\n<li>Muncie HL, et al. Dizziness: Approach to evaluation and management. American Family Physician. 2017;95:154.</li>\\n<li>American College of Emergency Physicians. https://www.acep.org. Accessed Nov. 11, 2017.</li>\\n<li>U.S. Food and Drug Administration. http://www.fda.gov. Accessed Nov. 11, 2017.</li>\\n<li>Schmitt BD. Fever. In: Pediatric Telephone Protocols: Office Version 15th ed. Elk Grove Village, Ill.: American Academy of Pediatrics; 2015.</li>\\n<li>Mannenbach MS (expert opinion). Mayo Clinic, Rochester, Minn. June 14, 2017.</li>\\n<li>Goyal DG (expert opinion). Mayo Clinic, Rochester, Minn. June 14, 2017.</li>\\n<li>Hoecker JL (expert opinion). Mayo Clinic, Rochester, Minn. Aug. 28, 2017.</li>\\n<li>American Academy of Orthopaedic Surgeons. https://orthoinfo.aaos.org. Accessed Nov. 20, 2017.</li>\\n<li>Petty RE, et al., eds. Textbook of Pediatric Rheumatology. 7th ed. Philadelphia, Pa.: Elsevier; 2016. https://www.clinicalkey.com. Accessed Nov. 20, 2017.</li>\\n<li>Elsevier Point of Care. https://www.clinicalkey.com.\\u00a0 Accessed Nov. 20, 2017.</li>\\n<li>Kasper DL, et al., eds. Harrison's Principles of Internal Medicine. 19th ed. New York, N.Y.: McGraw-Hill Education; 2015. http://accessmedicine.mhmedical.com. Accessed Nov. 20, 2017.</li>\\n<li>Wein AJ, et al., eds. Campbell-Walsh Urology. 11th ed. Philadelphia, Pa.: Elsevier; 2016. https://www.clinicalkey.com.. Accessed Dec. 2, 2017.</li>\\n<li>National Eye Institute. https://nei.nih.gov. Accessed Dec. 5, 2017.</li>\\n<li>Wilkinson JM (expert opinion). Mayo Clinic, Rochester, Minn. Nov. 8, 2017.</li>\\n</ol>\\n</div>\\n</div>\\n</div>'''\n",
    "\n"
   ]
  },
  {
   "cell_type": "code",
   "execution_count": 6,
   "metadata": {},
   "outputs": [
    {
     "name": "stdout",
     "output_type": "stream",
     "text": [
      "Choose a symptom\n",
      "Selected\n",
      "Select related factors\n",
      "View possible causes\n",
      "Abdominal pain in adults\n",
      "Find possible causes of abdominal pain based on specific factors. Check one or more factors on this page that apply to your symptom.\n",
      "Pain is\n",
      "Burning\n",
      "Crampy\n",
      "Dull\n",
      "Gnawing\n",
      "Intense\n",
      "Intermittent or episodic\n",
      "Ongoing (chronic)\n",
      "Sharp\n",
      "Steady\n",
      "Sudden (acute)\n",
      "Worsening or progressing\n",
      "Pain located in\n",
      "Abdomen but radiates to other parts of the body\n",
      "Lower abdomen\n",
      "Middle abdomen\n",
      "One or both sides\n",
      "Upper abdomen\n",
      "Triggered or worsened by\n",
      "Coughing or other jarring movements\n",
      "Drinking alcohol\n",
      "Eating certain foods\n",
      "Menstrual cycle\n",
      "Stress\n",
      "Relieved by\n",
      "Antacids\n",
      "Avoiding certain foods\n",
      "Changing position\n",
      "Drinking more water\n",
      "Eating certain foods\n",
      "Eating more fiber\n",
      "Accompanied by\n",
      "Abdominal swelling\n",
      "Black or bloody stools\n",
      "Constipation\n",
      "Diarrhea\n",
      "Fever\n",
      "Inability to move bowels in spite of urge\n",
      "Loose, watery stools\n",
      "Nausea or vomiting\n",
      "Passing gas\n",
      "Pulsing sensation near the navel\n",
      "Rash\n",
      "Stomach growling or rumbling\n",
      "Unintended weight loss\n",
      "Urgent need to have a bowel movement\n",
      "Show references\n",
      "Walls RM, et al., eds. Rosen's Emergency Medicine: Concepts and Clinical Practice. 9th ed. Philadelphia, Pa.: Elsevier; 2018. https://www.clinicalkey.com. Accessed Oct. 30, 2017.\n",
      "Palmer J, et al. Abdominal pain mimics. Emergency Medicine Clinics of North America. 2016;34:409.\n",
      "UpToDate. https://www.uptodate.com/contents/search. Accessed Oct. 30, 2017.\n",
      "Zeiter D. Abdominal pain in children. Pediatric Clinics of North America. 2017;64:525.\n",
      "Palmer J, et al. Abdominal pain mimics. Emergency Medicine Clinics of North America. 2016;34:409.\n",
      "Feldman M, et al. Sleisenger and Fordtran's Gastrointestinal and Liver Disease: Pathophysiology, Diagnosis, Management. 10th ed. Philadelphia, Pa.: Saunders Elsevier; 2016. https://www.clinicalkey.com. Accessed Oct. 30, 2017.\n",
      "Merck Manual Professional Version. https://www.merckmanuals.com/professional. Accessed Oct. 30, 2017.\n",
      "AskMayoExpert. Rochester, Minn.: Mayo Foundation for Medical Education and Research; 2017.\n",
      "Kliegman RM, et al. Nelson Textbook of Pediatrics. 20th ed. Philadelphia, Pa.: Elsevier; 2016. https://www.clinicalkey.com. Accessed Nov. 2, 2017.\n",
      "Zitelli BJ, et al., eds. Zitelli and Davis' Atlas of Pediatric Physical Diagnosis. Philadelphia, Pa.: Elsevier; 2017. https://www.clinicalkey.com. Accessed Nov. 11, 2017.\n",
      "Ferri FF. Ferri's Clinical Advisor 2018. Philadelphia, Pa.: Elsevier; 2018. https://www.clinicalkey.com. Accessed Nov. 11, 2017.\n",
      "Muncie HL, et al. Dizziness: Approach to evaluation and management. American Family Physician. 2017;95:154.\n",
      "American College of Emergency Physicians. https://www.acep.org. Accessed Nov. 11, 2017.\n",
      "U.S. Food and Drug Administration. http://www.fda.gov. Accessed Nov. 11, 2017.\n",
      "Schmitt BD. Fever. In: Pediatric Telephone Protocols: Office Version 15th ed. Elk Grove Village, Ill.: American Academy of Pediatrics; 2015.\n",
      "Mannenbach MS (expert opinion). Mayo Clinic, Rochester, Minn. June 14, 2017.\n",
      "Goyal DG (expert opinion). Mayo Clinic, Rochester, Minn. June 14, 2017.\n",
      "Hoecker JL (expert opinion). Mayo Clinic, Rochester, Minn. Aug. 28, 2017.\n",
      "American Academy of Orthopaedic Surgeons. https://orthoinfo.aaos.org. Accessed Nov. 20, 2017.\n",
      "Petty RE, et al., eds. Textbook of Pediatric Rheumatology. 7th ed. Philadelphia, Pa.: Elsevier; 2016. https://www.clinicalkey.com. Accessed Nov. 20, 2017.\n",
      "Elsevier Point of Care. https://www.clinicalkey.com.  Accessed Nov. 20, 2017.\n",
      "Kasper DL, et al., eds. Harrison's Principles of Internal Medicine. 19th ed. New York, N.Y.: McGraw-Hill Education; 2015. http://accessmedicine.mhmedical.com. Accessed Nov. 20, 2017.\n",
      "Wein AJ, et al., eds. Campbell-Walsh Urology. 11th ed. Philadelphia, Pa.: Elsevier; 2016. https://www.clinicalkey.com.. Accessed Dec. 2, 2017.\n",
      "National Eye Institute. https://nei.nih.gov. Accessed Dec. 5, 2017.\n",
      "Wilkinson JM (expert opinion). Mayo Clinic, Rochester, Minn. Nov. 8, 2017.\n"
     ]
    }
   ],
   "source": [
    "from bs4 import BeautifulSoup\n",
    "\n",
    "# BeautifulSoup를 사용하여 HTML 파싱\n",
    "soup = BeautifulSoup(html_crop, 'html.parser')\n",
    "\n",
    "# 화면에 보이는 텍스트 추출\n",
    "visible_texts = soup.stripped_strings\n",
    "\n",
    "# 텍스트를 리스트로 변환\n",
    "visible_texts_list = list(visible_texts)\n",
    "\n",
    "# 추출된 텍스트 출력\n",
    "for text in visible_texts_list:\n",
    "    print(text)"
   ]
  },
  {
   "cell_type": "code",
   "execution_count": null,
   "metadata": {},
   "outputs": [],
   "source": []
  }
 ],
 "metadata": {
  "kernelspec": {
   "display_name": "fastapi",
   "language": "python",
   "name": "python3"
  },
  "language_info": {
   "codemirror_mode": {
    "name": "ipython",
    "version": 3
   },
   "file_extension": ".py",
   "mimetype": "text/x-python",
   "name": "python",
   "nbconvert_exporter": "python",
   "pygments_lexer": "ipython3",
   "version": "3.12.3"
  }
 },
 "nbformat": 4,
 "nbformat_minor": 2
}
