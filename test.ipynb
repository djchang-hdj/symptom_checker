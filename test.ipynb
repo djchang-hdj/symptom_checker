{
 "cells": [
  {
   "cell_type": "code",
   "execution_count": 38,
   "metadata": {},
   "outputs": [],
   "source": [
    "# openai를 이용하여 환자가 증상을 호소하는 것을 시뮬레이트 하는 코드\n",
    "# 영어로 된 증상은 \"links_dict.json\"의 key 에 있다. \n",
    "\n",
    "from openai import OpenAI\n",
    "from dotenv import load_dotenv\n",
    "import os\n",
    "import json\n",
    "\n",
    "load_dotenv()\n",
    "\n",
    "client = OpenAI(api_key=os.getenv(\"OPENAI_API_KEY\"))\n",
    "\n",
    "def make_cc_of_oneself(client, symptom):\n",
    "    response = client.chat.completions.create(\n",
    "    model=\"gpt-4o\",\n",
    "    messages=[\n",
    "        {\n",
    "        \"role\": \"system\",\n",
    "        f\"content\": f\"\"\"You are a doctor studying diagnostics. \n",
    "        You are simulating a patient with a certain symptom. \n",
    "        Patients with this symptom may present to the doctor in a variety of ways. \n",
    "        Create three chief complaints for the symptom in Korean.\n",
    "        Keep it simple and concise. and give a list as a response.\n",
    "        [\"CC1\", \"CC2\", \"CC3\"]\n",
    "        \"\"\"\n",
    "        },\n",
    "        {\n",
    "        \"role\": \"user\",\n",
    "        \"content\": f\"{symptom}\"\n",
    "        }\n",
    "    ],\n",
    "    temperature=0.8,\n",
    "    top_p=1\n",
    ")   \n",
    "    return response.choices[0].message.content\n"
   ]
  },
  {
   "cell_type": "code",
   "execution_count": 45,
   "metadata": {},
   "outputs": [],
   "source": [
    "cc = make_cc_of_oneself(client, \"Pelvic pain in adult male\")"
   ]
  },
  {
   "cell_type": "code",
   "execution_count": 46,
   "metadata": {},
   "outputs": [
    {
     "data": {
      "text/plain": [
       "'[\"골반 통증\", \"아랫배가 아파요\", \"회음부 통증이 있어요\"]'"
      ]
     },
     "execution_count": 46,
     "metadata": {},
     "output_type": "execute_result"
    }
   ],
   "source": [
    "cc"
   ]
  },
  {
   "cell_type": "code",
   "execution_count": 35,
   "metadata": {},
   "outputs": [],
   "source": [
    "def make_cc_for_ones_child(client, symptom):\n",
    "    response = client.chat.completions.create(\n",
    "    model=\"gpt-4o\",\n",
    "    messages=[\n",
    "        {\n",
    "        \"role\": \"system\",\n",
    "        f\"content\": f\"\"\"You are a doctor studying diagnostics. \n",
    "        You are simulating a parent who has a child with a certain symptom. \n",
    "        The child with this symptom may present to the doctor in a variety of ways. \n",
    "        Create three chief complaints for the symptom in Korean.\n",
    "        Keep it simple and concise. and give a list as a response.\n",
    "        [\"아이가 __ \", \"아이가 __\", \"아이가 __ \"]\n",
    "        \"\"\"\n",
    "        },\n",
    "        {\n",
    "        \"role\": \"user\",\n",
    "        \"content\": f\"{symptom}\"\n",
    "        }\n",
    "    ],\n",
    "    temperature=0.8,\n",
    "    top_p=1\n",
    ")   \n",
    "    return response.choices[0].message.content"
   ]
  },
  {
   "cell_type": "code",
   "execution_count": 36,
   "metadata": {},
   "outputs": [
    {
     "data": {
      "text/plain": [
       "'[\"아이가 변비가 있어요\", \"아이가 배가 아프다고 해요\", \"아이가 며칠째 대변을 못 봤어요\"]'"
      ]
     },
     "execution_count": 36,
     "metadata": {},
     "output_type": "execute_result"
    }
   ],
   "source": [
    "c_cc = make_cc_for_ones_child(client, \"Constipation in children\")\n",
    "c_cc"
   ]
  },
  {
   "cell_type": "code",
   "execution_count": 40,
   "metadata": {},
   "outputs": [],
   "source": [
    "\n",
    "# 증상에 in adults 문구가 있으면 make_cc_of_oneself 호출, 증상에 in children 문구가 있으면 make_cc_for_ones_child 호출 함수\n",
    "\n",
    "def get_cc(client, symptom):\n",
    "    if \"in adults\" in symptom:\n",
    "        return make_cc_of_oneself(client, symptom)\n",
    "    elif \"in children\" in symptom:\n",
    "        return make_cc_for_ones_child(client, symptom)\n",
    "    else:\n",
    "        return None"
   ]
  },
  {
   "cell_type": "code",
   "execution_count": 41,
   "metadata": {},
   "outputs": [],
   "source": [
    "def read_json_file(file_path):\n",
    "    with open(file_path, 'r', encoding='utf-8') as file:\n",
    "        return json.load(file)\n",
    "    \n",
    "symptom_dict = read_json_file(\"links_dict.json\").keys()\n"
   ]
  },
  {
   "cell_type": "code",
   "execution_count": 42,
   "metadata": {},
   "outputs": [
    {
     "data": {
      "text/plain": [
       "dict_keys(['Abdominal pain in adults', 'Blood in stool in adults', 'Chest pain in adults', 'Constipation in adults', 'Cough in adults', 'Diarrhea in adults', 'Difficulty swallowing in adults', 'Dizziness in adults', 'Eye discomfort and redness in adults', 'Eye problems in adults', 'Foot pain or ankle pain in adults', 'Foot swelling or leg swelling in adults', 'Headaches in adults', 'Heart palpitations in adults', 'Hip pain in adults', 'Knee pain in adults', 'Low back pain in adults', 'Nasal congestion in adults', 'Nausea or vomiting in adults', 'Neck pain in adults', 'Numbness or tingling in hands in adults', 'Pelvic pain in adult females', 'Pelvic pain in adult males', 'Shortness of breath in adults', 'Shoulder pain in adults', 'Sore throat in adults', 'Urinary problems in adults', 'Wheezing in adults', 'Abdominal pain in children', 'Constipation in children', 'Cough in children', 'Diarrhea in children', 'Ear problems in children', 'Earache in children', 'Eye discomfort and redness in children', 'Eye problems in children', 'Fever in children', 'Headaches in children', 'Joint pain or muscle pain in children', 'Nasal congestion in children', 'Nausea or vomiting in children', 'Skin rashes in children', 'Sore throat in children', 'Urinary problems in children', 'Wheezing in children'])"
      ]
     },
     "execution_count": 42,
     "metadata": {},
     "output_type": "execute_result"
    }
   ],
   "source": [
    "symptom_dict"
   ]
  },
  {
   "cell_type": "code",
   "execution_count": null,
   "metadata": {},
   "outputs": [],
   "source": []
  }
 ],
 "metadata": {
  "kernelspec": {
   "display_name": "fastapi",
   "language": "python",
   "name": "python3"
  },
  "language_info": {
   "codemirror_mode": {
    "name": "ipython",
    "version": 3
   },
   "file_extension": ".py",
   "mimetype": "text/x-python",
   "name": "python",
   "nbconvert_exporter": "python",
   "pygments_lexer": "ipython3",
   "version": "3.12.3"
  }
 },
 "nbformat": 4,
 "nbformat_minor": 2
}
